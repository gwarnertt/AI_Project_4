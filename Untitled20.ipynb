{
  "nbformat": 4,
  "nbformat_minor": 0,
  "metadata": {
    "colab": {
      "name": "Untitled20.ipynb",
      "provenance": [],
      "authorship_tag": "ABX9TyOM2XUI3yxZDdA7h0uOakKA",
      "include_colab_link": true
    },
    "kernelspec": {
      "name": "python3",
      "display_name": "Python 3"
    },
    "language_info": {
      "name": "python"
    }
  },
  "cells": [
    {
      "cell_type": "markdown",
      "metadata": {
        "id": "view-in-github",
        "colab_type": "text"
      },
      "source": [
        "<a href=\"https://colab.research.google.com/github/gwarnertt/AI_Project_4/blob/master/Untitled20.ipynb\" target=\"_parent\"><img src=\"https://colab.research.google.com/assets/colab-badge.svg\" alt=\"Open In Colab\"/></a>"
      ]
    },
    {
      "cell_type": "code",
      "execution_count": 44,
      "metadata": {
        "colab": {
          "base_uri": "https://localhost:8080/"
        },
        "id": "iYkPm9fP5sra",
        "outputId": "5afd9e46-7168-4a97-9abd-7bfd66d4cd9f"
      },
      "outputs": [
        {
          "output_type": "stream",
          "name": "stdout",
          "text": [
            "[3. 4.]\n"
          ]
        }
      ],
      "source": [
        "import numpy as np\n",
        "T= 200\n",
        "y = np.array([1,1,1,-1,-1,-1,-1,-1])\n",
        "x = np.array([[3,4],[1,1],[2,3],[-0.5,-0.5],[-1,-2],[-2,-3],[-3,-4],[-4,-3]])\n",
        "n = 8            \n",
        "theta = 0\n",
        "for t in range(T):\n",
        "  for i in range(n):\n",
        "    w = np.dot(y[i],x[i])*theta\n",
        "    if w.any() <= 0:\n",
        "      theta = theta + (y[i]*x[i])\n",
        "      print(theta)\n"
      ]
    }
  ]
}