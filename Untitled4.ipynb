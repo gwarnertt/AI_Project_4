{
  "nbformat": 4,
  "nbformat_minor": 0,
  "metadata": {
    "colab": {
      "name": "Untitled4.ipynb",
      "provenance": [],
      "authorship_tag": "ABX9TyMy97UQ1xG8AF7kzpqcECZx",
      "include_colab_link": true
    },
    "kernelspec": {
      "name": "python3",
      "display_name": "Python 3"
    },
    "language_info": {
      "name": "python"
    }
  },
  "cells": [
    {
      "cell_type": "markdown",
      "metadata": {
        "id": "view-in-github",
        "colab_type": "text"
      },
      "source": [
        "<a href=\"https://colab.research.google.com/github/gwarnertt/AI_Project_4/blob/master/Untitled4.ipynb\" target=\"_parent\"><img src=\"https://colab.research.google.com/assets/colab-badge.svg\" alt=\"Open In Colab\"/></a>"
      ]
    },
    {
      "cell_type": "code",
      "source": [
        "import pandas as pd\n",
        "st_data_2009 = pd.read_csv(\"/content/science_tech_2009.csv\")\n",
        "st_data_2009.head()"
      ],
      "metadata": {
        "id": "gs-bNFX4GNab",
        "colab": {
          "base_uri": "https://localhost:8080/",
          "height": 370
        },
        "outputId": "8776dac5-9ebe-4984-d095-384c75068b9f"
      },
      "execution_count": null,
      "outputs": [
        {
          "output_type": "execute_result",
          "data": {
            "text/plain": [
              "     Country Name  High-technology exports (% of manufactured exports)  \\\n",
              "0     Afghanistan                                                NaN     \n",
              "1         Albania                                           1.328024     \n",
              "2         Algeria                                           0.653887     \n",
              "3  American Samoa                                                NaN     \n",
              "4         Andorra                                          12.192161     \n",
              "\n",
              "   High-technology exports (current US$)  Trademark applications, total  \\\n",
              "0                                    NaN                            NaN   \n",
              "1                             10128935.0                         3456.0   \n",
              "2                              4616076.0                         5345.0   \n",
              "3                                    NaN                            NaN   \n",
              "4                             10402350.0                          785.0   \n",
              "\n",
              "   Trademark applications, direct resident  \\\n",
              "0                                      NaN   \n",
              "1                                    213.0   \n",
              "2                                      NaN   \n",
              "3                                      NaN   \n",
              "4                                    243.0   \n",
              "\n",
              "   Trademark applications, direct nonresident  Patent applications, residents  \\\n",
              "0                                         NaN                             NaN   \n",
              "1                                      3243.0                             NaN   \n",
              "2                                         NaN                             NaN   \n",
              "3                                         NaN                             NaN   \n",
              "4                                       542.0                             NaN   \n",
              "\n",
              "   Patent applications, nonresidents  \\\n",
              "0                                NaN   \n",
              "1                              361.0   \n",
              "2                                NaN   \n",
              "3                                NaN   \n",
              "4                                NaN   \n",
              "\n",
              "   Scientific and technical journal articles  \\\n",
              "0                                      26.30   \n",
              "1                                      70.35   \n",
              "2                                    2135.32   \n",
              "3                                        NaN   \n",
              "4                                       2.55   \n",
              "\n",
              "   Research and development expenditure (% of GDP)  \n",
              "0                                              NaN  \n",
              "1                                              NaN  \n",
              "2                                              NaN  \n",
              "3                                              NaN  \n",
              "4                                              NaN  "
            ],
            "text/html": [
              "\n",
              "  <div id=\"df-84226dfd-4bfb-40cc-91c2-e83803ce1861\">\n",
              "    <div class=\"colab-df-container\">\n",
              "      <div>\n",
              "<style scoped>\n",
              "    .dataframe tbody tr th:only-of-type {\n",
              "        vertical-align: middle;\n",
              "    }\n",
              "\n",
              "    .dataframe tbody tr th {\n",
              "        vertical-align: top;\n",
              "    }\n",
              "\n",
              "    .dataframe thead th {\n",
              "        text-align: right;\n",
              "    }\n",
              "</style>\n",
              "<table border=\"1\" class=\"dataframe\">\n",
              "  <thead>\n",
              "    <tr style=\"text-align: right;\">\n",
              "      <th></th>\n",
              "      <th>Country Name</th>\n",
              "      <th>High-technology exports (% of manufactured exports)</th>\n",
              "      <th>High-technology exports (current US$)</th>\n",
              "      <th>Trademark applications, total</th>\n",
              "      <th>Trademark applications, direct resident</th>\n",
              "      <th>Trademark applications, direct nonresident</th>\n",
              "      <th>Patent applications, residents</th>\n",
              "      <th>Patent applications, nonresidents</th>\n",
              "      <th>Scientific and technical journal articles</th>\n",
              "      <th>Research and development expenditure (% of GDP)</th>\n",
              "    </tr>\n",
              "  </thead>\n",
              "  <tbody>\n",
              "    <tr>\n",
              "      <th>0</th>\n",
              "      <td>Afghanistan</td>\n",
              "      <td>NaN</td>\n",
              "      <td>NaN</td>\n",
              "      <td>NaN</td>\n",
              "      <td>NaN</td>\n",
              "      <td>NaN</td>\n",
              "      <td>NaN</td>\n",
              "      <td>NaN</td>\n",
              "      <td>26.30</td>\n",
              "      <td>NaN</td>\n",
              "    </tr>\n",
              "    <tr>\n",
              "      <th>1</th>\n",
              "      <td>Albania</td>\n",
              "      <td>1.328024</td>\n",
              "      <td>10128935.0</td>\n",
              "      <td>3456.0</td>\n",
              "      <td>213.0</td>\n",
              "      <td>3243.0</td>\n",
              "      <td>NaN</td>\n",
              "      <td>361.0</td>\n",
              "      <td>70.35</td>\n",
              "      <td>NaN</td>\n",
              "    </tr>\n",
              "    <tr>\n",
              "      <th>2</th>\n",
              "      <td>Algeria</td>\n",
              "      <td>0.653887</td>\n",
              "      <td>4616076.0</td>\n",
              "      <td>5345.0</td>\n",
              "      <td>NaN</td>\n",
              "      <td>NaN</td>\n",
              "      <td>NaN</td>\n",
              "      <td>NaN</td>\n",
              "      <td>2135.32</td>\n",
              "      <td>NaN</td>\n",
              "    </tr>\n",
              "    <tr>\n",
              "      <th>3</th>\n",
              "      <td>American Samoa</td>\n",
              "      <td>NaN</td>\n",
              "      <td>NaN</td>\n",
              "      <td>NaN</td>\n",
              "      <td>NaN</td>\n",
              "      <td>NaN</td>\n",
              "      <td>NaN</td>\n",
              "      <td>NaN</td>\n",
              "      <td>NaN</td>\n",
              "      <td>NaN</td>\n",
              "    </tr>\n",
              "    <tr>\n",
              "      <th>4</th>\n",
              "      <td>Andorra</td>\n",
              "      <td>12.192161</td>\n",
              "      <td>10402350.0</td>\n",
              "      <td>785.0</td>\n",
              "      <td>243.0</td>\n",
              "      <td>542.0</td>\n",
              "      <td>NaN</td>\n",
              "      <td>NaN</td>\n",
              "      <td>2.55</td>\n",
              "      <td>NaN</td>\n",
              "    </tr>\n",
              "  </tbody>\n",
              "</table>\n",
              "</div>\n",
              "      <button class=\"colab-df-convert\" onclick=\"convertToInteractive('df-84226dfd-4bfb-40cc-91c2-e83803ce1861')\"\n",
              "              title=\"Convert this dataframe to an interactive table.\"\n",
              "              style=\"display:none;\">\n",
              "        \n",
              "  <svg xmlns=\"http://www.w3.org/2000/svg\" height=\"24px\"viewBox=\"0 0 24 24\"\n",
              "       width=\"24px\">\n",
              "    <path d=\"M0 0h24v24H0V0z\" fill=\"none\"/>\n",
              "    <path d=\"M18.56 5.44l.94 2.06.94-2.06 2.06-.94-2.06-.94-.94-2.06-.94 2.06-2.06.94zm-11 1L8.5 8.5l.94-2.06 2.06-.94-2.06-.94L8.5 2.5l-.94 2.06-2.06.94zm10 10l.94 2.06.94-2.06 2.06-.94-2.06-.94-.94-2.06-.94 2.06-2.06.94z\"/><path d=\"M17.41 7.96l-1.37-1.37c-.4-.4-.92-.59-1.43-.59-.52 0-1.04.2-1.43.59L10.3 9.45l-7.72 7.72c-.78.78-.78 2.05 0 2.83L4 21.41c.39.39.9.59 1.41.59.51 0 1.02-.2 1.41-.59l7.78-7.78 2.81-2.81c.8-.78.8-2.07 0-2.86zM5.41 20L4 18.59l7.72-7.72 1.47 1.35L5.41 20z\"/>\n",
              "  </svg>\n",
              "      </button>\n",
              "      \n",
              "  <style>\n",
              "    .colab-df-container {\n",
              "      display:flex;\n",
              "      flex-wrap:wrap;\n",
              "      gap: 12px;\n",
              "    }\n",
              "\n",
              "    .colab-df-convert {\n",
              "      background-color: #E8F0FE;\n",
              "      border: none;\n",
              "      border-radius: 50%;\n",
              "      cursor: pointer;\n",
              "      display: none;\n",
              "      fill: #1967D2;\n",
              "      height: 32px;\n",
              "      padding: 0 0 0 0;\n",
              "      width: 32px;\n",
              "    }\n",
              "\n",
              "    .colab-df-convert:hover {\n",
              "      background-color: #E2EBFA;\n",
              "      box-shadow: 0px 1px 2px rgba(60, 64, 67, 0.3), 0px 1px 3px 1px rgba(60, 64, 67, 0.15);\n",
              "      fill: #174EA6;\n",
              "    }\n",
              "\n",
              "    [theme=dark] .colab-df-convert {\n",
              "      background-color: #3B4455;\n",
              "      fill: #D2E3FC;\n",
              "    }\n",
              "\n",
              "    [theme=dark] .colab-df-convert:hover {\n",
              "      background-color: #434B5C;\n",
              "      box-shadow: 0px 1px 3px 1px rgba(0, 0, 0, 0.15);\n",
              "      filter: drop-shadow(0px 1px 2px rgba(0, 0, 0, 0.3));\n",
              "      fill: #FFFFFF;\n",
              "    }\n",
              "  </style>\n",
              "\n",
              "      <script>\n",
              "        const buttonEl =\n",
              "          document.querySelector('#df-84226dfd-4bfb-40cc-91c2-e83803ce1861 button.colab-df-convert');\n",
              "        buttonEl.style.display =\n",
              "          google.colab.kernel.accessAllowed ? 'block' : 'none';\n",
              "\n",
              "        async function convertToInteractive(key) {\n",
              "          const element = document.querySelector('#df-84226dfd-4bfb-40cc-91c2-e83803ce1861');\n",
              "          const dataTable =\n",
              "            await google.colab.kernel.invokeFunction('convertToInteractive',\n",
              "                                                     [key], {});\n",
              "          if (!dataTable) return;\n",
              "\n",
              "          const docLinkHtml = 'Like what you see? Visit the ' +\n",
              "            '<a target=\"_blank\" href=https://colab.research.google.com/notebooks/data_table.ipynb>data table notebook</a>'\n",
              "            + ' to learn more about interactive tables.';\n",
              "          element.innerHTML = '';\n",
              "          dataTable['output_type'] = 'display_data';\n",
              "          await google.colab.output.renderOutput(dataTable, element);\n",
              "          const docLink = document.createElement('div');\n",
              "          docLink.innerHTML = docLinkHtml;\n",
              "          element.appendChild(docLink);\n",
              "        }\n",
              "      </script>\n",
              "    </div>\n",
              "  </div>\n",
              "  "
            ]
          },
          "metadata": {},
          "execution_count": 9
        }
      ]
    },
    {
      "cell_type": "code",
      "source": [
        "st_data_2009.shape"
      ],
      "metadata": {
        "colab": {
          "base_uri": "https://localhost:8080/"
        },
        "id": "z6PYyCRLJOmO",
        "outputId": "1e06a87a-a9ba-45f0-a175-120c5d00793a"
      },
      "execution_count": null,
      "outputs": [
        {
          "output_type": "execute_result",
          "data": {
            "text/plain": [
              "(219, 10)"
            ]
          },
          "metadata": {},
          "execution_count": 10
        }
      ]
    },
    {
      "cell_type": "code",
      "source": [
        "import pandas as pd\n",
        "st_data_2018 = pd.read_csv(\"/content/science_tech_2018.csv\")\n",
        "st_data_2018.isna().sum()"
      ],
      "metadata": {
        "id": "kt4s8F1jLNJW",
        "colab": {
          "base_uri": "https://localhost:8080/"
        },
        "outputId": "5b87fc7e-d7d2-4dab-8f64-113dfbd6ef88"
      },
      "execution_count": null,
      "outputs": [
        {
          "output_type": "execute_result",
          "data": {
            "text/plain": [
              "Country Name                                             0\n",
              "High-technology exports (% of manufactured exports)     87\n",
              "High-technology exports (current US$)                   88\n",
              "Trademark applications, total                           86\n",
              "Trademark applications, direct resident                 91\n",
              "Trademark applications, direct nonresident              90\n",
              "Patent applications, residents                         101\n",
              "Patent applications, nonresidents                      100\n",
              "Scientific and technical journal articles               20\n",
              "Research and development expenditure (% of GDP)        146\n",
              "dtype: int64"
            ]
          },
          "metadata": {},
          "execution_count": 14
        }
      ]
    },
    {
      "cell_type": "markdown",
      "source": [
        ""
      ],
      "metadata": {
        "id": "pXlJ8IGGd9i6"
      }
    },
    {
      "cell_type": "code",
      "source": [
        "st_data_2018_clean = st_data_2018.dropna()\n",
        "st_data_2018_clean.shape"
      ],
      "metadata": {
        "colab": {
          "base_uri": "https://localhost:8080/"
        },
        "id": "F1a3TaWTcJnJ",
        "outputId": "ef38307d-347e-4268-c55c-00531e8fc587"
      },
      "execution_count": null,
      "outputs": [
        {
          "output_type": "execute_result",
          "data": {
            "text/plain": [
              "(51, 10)"
            ]
          },
          "metadata": {},
          "execution_count": 16
        }
      ]
    },
    {
      "cell_type": "markdown",
      "source": [
        "##Exploratory data analysis"
      ],
      "metadata": {
        "id": "AfJSdRjaeABW"
      }
    },
    {
      "cell_type": "code",
      "source": [
        "pd.set_option('display.float_format', lambda x: '%.3f' %x)\n",
        "st_data_2018_clean.describe().style.format(\"{:,.0f}\")"
      ],
      "metadata": {
        "colab": {
          "base_uri": "https://localhost:8080/",
          "height": 402
        },
        "id": "oll16DT4eL6i",
        "outputId": "c511fb4f-b53c-407b-b242-1d310527e28d"
      },
      "execution_count": null,
      "outputs": [
        {
          "output_type": "execute_result",
          "data": {
            "text/plain": [
              "<pandas.io.formats.style.Styler at 0x7f0c26e04710>"
            ],
            "text/html": [
              "<style type=\"text/css\">\n",
              "</style>\n",
              "<table id=\"T_1759b_\" class=\"dataframe\">\n",
              "  <thead>\n",
              "    <tr>\n",
              "      <th class=\"blank level0\" >&nbsp;</th>\n",
              "      <th class=\"col_heading level0 col0\" >High-technology exports (% of manufactured exports)</th>\n",
              "      <th class=\"col_heading level0 col1\" >High-technology exports (current US$)</th>\n",
              "      <th class=\"col_heading level0 col2\" >Trademark applications, total</th>\n",
              "      <th class=\"col_heading level0 col3\" >Trademark applications, direct resident</th>\n",
              "      <th class=\"col_heading level0 col4\" >Trademark applications, direct nonresident</th>\n",
              "      <th class=\"col_heading level0 col5\" >Patent applications, residents</th>\n",
              "      <th class=\"col_heading level0 col6\" >Patent applications, nonresidents</th>\n",
              "      <th class=\"col_heading level0 col7\" >Scientific and technical journal articles</th>\n",
              "      <th class=\"col_heading level0 col8\" >Research and development expenditure (% of GDP)</th>\n",
              "    </tr>\n",
              "  </thead>\n",
              "  <tbody>\n",
              "    <tr>\n",
              "      <th id=\"T_1759b_level0_row0\" class=\"row_heading level0 row0\" >count</th>\n",
              "      <td id=\"T_1759b_row0_col0\" class=\"data row0 col0\" >51</td>\n",
              "      <td id=\"T_1759b_row0_col1\" class=\"data row0 col1\" >51</td>\n",
              "      <td id=\"T_1759b_row0_col2\" class=\"data row0 col2\" >51</td>\n",
              "      <td id=\"T_1759b_row0_col3\" class=\"data row0 col3\" >51</td>\n",
              "      <td id=\"T_1759b_row0_col4\" class=\"data row0 col4\" >51</td>\n",
              "      <td id=\"T_1759b_row0_col5\" class=\"data row0 col5\" >51</td>\n",
              "      <td id=\"T_1759b_row0_col6\" class=\"data row0 col6\" >51</td>\n",
              "      <td id=\"T_1759b_row0_col7\" class=\"data row0 col7\" >51</td>\n",
              "      <td id=\"T_1759b_row0_col8\" class=\"data row0 col8\" >51</td>\n",
              "    </tr>\n",
              "    <tr>\n",
              "      <th id=\"T_1759b_level0_row1\" class=\"row_heading level0 row1\" >mean</th>\n",
              "      <td id=\"T_1759b_row1_col0\" class=\"data row1 col0\" >12</td>\n",
              "      <td id=\"T_1759b_row1_col1\" class=\"data row1 col1\" >25,697,867,097</td>\n",
              "      <td id=\"T_1759b_row1_col2\" class=\"data row1 col2\" >44,515</td>\n",
              "      <td id=\"T_1759b_row1_col3\" class=\"data row1 col3\" >33,921</td>\n",
              "      <td id=\"T_1759b_row1_col4\" class=\"data row1 col4\" >10,594</td>\n",
              "      <td id=\"T_1759b_row1_col5\" class=\"data row1 col5\" >16,828</td>\n",
              "      <td id=\"T_1759b_row1_col6\" class=\"data row1 col6\" >11,187</td>\n",
              "      <td id=\"T_1759b_row1_col7\" class=\"data row1 col7\" >30,499</td>\n",
              "      <td id=\"T_1759b_row1_col8\" class=\"data row1 col8\" >1</td>\n",
              "    </tr>\n",
              "    <tr>\n",
              "      <th id=\"T_1759b_level0_row2\" class=\"row_heading level0 row2\" >std</th>\n",
              "      <td id=\"T_1759b_row2_col0\" class=\"data row2 col0\" >8</td>\n",
              "      <td id=\"T_1759b_row2_col1\" class=\"data row2 col1\" >48,690,230,336</td>\n",
              "      <td id=\"T_1759b_row2_col2\" class=\"data row2 col2\" >85,394</td>\n",
              "      <td id=\"T_1759b_row2_col3\" class=\"data row2 col3\" >69,219</td>\n",
              "      <td id=\"T_1759b_row2_col4\" class=\"data row2 col4\" >18,797</td>\n",
              "      <td id=\"T_1759b_row2_col5\" class=\"data row2 col5\" >56,775</td>\n",
              "      <td id=\"T_1759b_row2_col6\" class=\"data row2 col6\" >44,725</td>\n",
              "      <td id=\"T_1759b_row2_col7\" class=\"data row2 col7\" >65,091</td>\n",
              "      <td id=\"T_1759b_row2_col8\" class=\"data row2 col8\" >1</td>\n",
              "    </tr>\n",
              "    <tr>\n",
              "      <th id=\"T_1759b_level0_row3\" class=\"row_heading level0 row3\" >min</th>\n",
              "      <td id=\"T_1759b_row3_col0\" class=\"data row3 col0\" >0</td>\n",
              "      <td id=\"T_1759b_row3_col1\" class=\"data row3 col1\" >115,051</td>\n",
              "      <td id=\"T_1759b_row3_col2\" class=\"data row3 col2\" >1,974</td>\n",
              "      <td id=\"T_1759b_row3_col3\" class=\"data row3 col3\" >141</td>\n",
              "      <td id=\"T_1759b_row3_col4\" class=\"data row3 col4\" >1,008</td>\n",
              "      <td id=\"T_1759b_row3_col5\" class=\"data row3 col5\" >1</td>\n",
              "      <td id=\"T_1759b_row3_col6\" class=\"data row3 col6\" >4</td>\n",
              "      <td id=\"T_1759b_row3_col7\" class=\"data row3 col7\" >127</td>\n",
              "      <td id=\"T_1759b_row3_col8\" class=\"data row3 col8\" >0</td>\n",
              "    </tr>\n",
              "    <tr>\n",
              "      <th id=\"T_1759b_level0_row4\" class=\"row_heading level0 row4\" >25%</th>\n",
              "      <td id=\"T_1759b_row4_col0\" class=\"data row4 col0\" >5</td>\n",
              "      <td id=\"T_1759b_row4_col1\" class=\"data row4 col1\" >433,839,196</td>\n",
              "      <td id=\"T_1759b_row4_col2\" class=\"data row4 col2\" >4,203</td>\n",
              "      <td id=\"T_1759b_row4_col3\" class=\"data row4 col3\" >1,858</td>\n",
              "      <td id=\"T_1759b_row4_col4\" class=\"data row4 col4\" >1,937</td>\n",
              "      <td id=\"T_1759b_row4_col5\" class=\"data row4 col5\" >96</td>\n",
              "      <td id=\"T_1759b_row4_col6\" class=\"data row4 col6\" >26</td>\n",
              "      <td id=\"T_1759b_row4_col7\" class=\"data row4 col7\" >1,416</td>\n",
              "      <td id=\"T_1759b_row4_col8\" class=\"data row4 col8\" >0</td>\n",
              "    </tr>\n",
              "    <tr>\n",
              "      <th id=\"T_1759b_level0_row5\" class=\"row_heading level0 row5\" >50%</th>\n",
              "      <td id=\"T_1759b_row5_col0\" class=\"data row5 col0\" >10</td>\n",
              "      <td id=\"T_1759b_row5_col1\" class=\"data row5 col1\" >4,294,542,879</td>\n",
              "      <td id=\"T_1759b_row5_col2\" class=\"data row5 col2\" >10,025</td>\n",
              "      <td id=\"T_1759b_row5_col3\" class=\"data row5 col3\" >4,711</td>\n",
              "      <td id=\"T_1759b_row5_col4\" class=\"data row5 col4\" >3,417</td>\n",
              "      <td id=\"T_1759b_row5_col5\" class=\"data row5 col5\" >678</td>\n",
              "      <td id=\"T_1759b_row5_col6\" class=\"data row5 col6\" >168</td>\n",
              "      <td id=\"T_1759b_row5_col7\" class=\"data row5 col7\" >10,345</td>\n",
              "      <td id=\"T_1759b_row5_col8\" class=\"data row5 col8\" >1</td>\n",
              "    </tr>\n",
              "    <tr>\n",
              "      <th id=\"T_1759b_level0_row6\" class=\"row_heading level0 row6\" >75%</th>\n",
              "      <td id=\"T_1759b_row6_col0\" class=\"data row6 col0\" >17</td>\n",
              "      <td id=\"T_1759b_row6_col1\" class=\"data row6 col1\" >21,254,931,313</td>\n",
              "      <td id=\"T_1759b_row6_col2\" class=\"data row6 col2\" >40,292</td>\n",
              "      <td id=\"T_1759b_row6_col3\" class=\"data row6 col3\" >27,325</td>\n",
              "      <td id=\"T_1759b_row6_col4\" class=\"data row6 col4\" >9,829</td>\n",
              "      <td id=\"T_1759b_row6_col5\" class=\"data row6 col5\" >1,938</td>\n",
              "      <td id=\"T_1759b_row6_col6\" class=\"data row6 col6\" >1,834</td>\n",
              "      <td id=\"T_1759b_row6_col7\" class=\"data row6 col7\" >23,684</td>\n",
              "      <td id=\"T_1759b_row6_col8\" class=\"data row6 col8\" >2</td>\n",
              "    </tr>\n",
              "    <tr>\n",
              "      <th id=\"T_1759b_level0_row7\" class=\"row_heading level0 row7\" >max</th>\n",
              "      <td id=\"T_1759b_row7_col0\" class=\"data row7 col0\" >36</td>\n",
              "      <td id=\"T_1759b_row7_col1\" class=\"data row7 col1\" >210,082,307,180</td>\n",
              "      <td id=\"T_1759b_row7_col2\" class=\"data row7 col2\" >464,786</td>\n",
              "      <td id=\"T_1759b_row7_col3\" class=\"data row7 col3\" >342,150</td>\n",
              "      <td id=\"T_1759b_row7_col4\" class=\"data row7 col4\" >122,636</td>\n",
              "      <td id=\"T_1759b_row7_col5\" class=\"data row7 col5\" >285,095</td>\n",
              "      <td id=\"T_1759b_row7_col6\" class=\"data row7 col6\" >312,046</td>\n",
              "      <td id=\"T_1759b_row7_col7\" class=\"data row7 col7\" >422,808</td>\n",
              "      <td id=\"T_1759b_row7_col8\" class=\"data row7 col8\" >5</td>\n",
              "    </tr>\n",
              "  </tbody>\n",
              "</table>\n"
            ]
          },
          "metadata": {},
          "execution_count": 19
        }
      ]
    },
    {
      "cell_type": "code",
      "source": [
        "from IPython.core.display import publish_display_data\n",
        "import matplotlib.pyplot as plt\n",
        "import seaborn as sns\n",
        "%matplotlib inline"
      ],
      "metadata": {
        "id": "f803cnVUfmUZ"
      },
      "execution_count": 20,
      "outputs": []
    },
    {
      "cell_type": "code",
      "source": [
        "sns.boxplot(x=st_data_2018_clean['High-technology exports (% of manufactured exports)'])"
      ],
      "metadata": {
        "colab": {
          "base_uri": "https://localhost:8080/",
          "height": 296
        },
        "id": "RL52kMJkhWz4",
        "outputId": "99ac5d59-4ad0-4c01-ba93-71fec34cefa4"
      },
      "execution_count": 21,
      "outputs": [
        {
          "output_type": "execute_result",
          "data": {
            "text/plain": [
              "<matplotlib.axes._subplots.AxesSubplot at 0x7f0c010c3850>"
            ]
          },
          "metadata": {},
          "execution_count": 21
        },
        {
          "output_type": "display_data",
          "data": {
            "text/plain": [
              "<Figure size 432x288 with 1 Axes>"
            ],
            "image/png": "[encoded data removed]"
          },
          "metadata": {
            "needs_background": "light"
          }
        }
      ]
    }
  ]
}