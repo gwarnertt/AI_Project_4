{
  "nbformat": 4,
  "nbformat_minor": 0,
  "metadata": {
    "colab": {
      "name": "Untitled25.ipynb",
      "provenance": [],
      "authorship_tag": "ABX9TyM+jk/LdwmGxMFROrF6VVur",
      "include_colab_link": true
    },
    "kernelspec": {
      "name": "python3",
      "display_name": "Python 3"
    },
    "language_info": {
      "name": "python"
    }
  },
  "cells": [
    {
      "cell_type": "markdown",
      "metadata": {
        "id": "view-in-github",
        "colab_type": "text"
      },
      "source": [
        "<a href=\"https://colab.research.google.com/github/gwarnertt/AI_Project_4/blob/master/Untitled25.ipynb\" target=\"_parent\"><img src=\"https://colab.research.google.com/assets/colab-badge.svg\" alt=\"Open In Colab\"/></a>"
      ]
    },
    {
      "cell_type": "code",
      "execution_count": 26,
      "metadata": {
        "colab": {
          "base_uri": "https://localhost:8080/"
        },
        "id": "HBNXIAk2V5aw",
        "outputId": "894d8024-7490-4b95-ecbc-f905b2df3a58"
      },
      "outputs": [
        {
          "output_type": "stream",
          "name": "stdout",
          "text": [
            "[[-0.366  1.366]\n",
            " [-1.598  3.232]\n",
            " [-1.964  4.598]\n",
            " [ 0.183 -0.683]\n",
            " [ 1.232 -1.866]\n",
            " [ 1.598 -3.232]\n",
            " [ 1.964 -4.598]\n",
            " [ 0.598 -4.964]]\n",
            "[[-0.366  1.366]\n",
            " [-1.598  3.232]\n",
            " [-1.964  4.598]\n",
            " [ 0.183 -0.683]\n",
            " [ 1.232 -1.866]\n",
            " [ 1.598 -3.232]\n",
            " [ 1.964 -4.598]\n",
            " [ 0.598 -4.964]]\n",
            "[-0.366  1.366]\n"
          ]
        }
      ],
      "source": [
        "import numpy as np\n",
        "y = np.array([1,1,1,-1,-1,-1,-1,-1])\n",
        "x = np.array([[1,1],[2,3],[3,4],[-0.5,-0.5],[-1,-2],[-2,-3],[-3,-4],[-4,-3]])\n",
        "T = 3\n",
        "#print(x)\n",
        "rotated = np.matrix([[0.5,-0.866],[0.866,0.5]])\n",
        "new_array= np.zeros([8,2])\n",
        "#print(new_array)\n",
        "\n",
        "for i in range(8):\n",
        "  new_array[i] = np.dot(rotated, x[i].T)\n",
        "print(new_array)  \n",
        "x = new_array\n",
        "print(x)\n",
        "\n",
        "theta = np.array([0,0])\n",
        "for t in range(T):\n",
        "    for i in range(8):\n",
        "        #print(y[i]*np.matmul(x[i],theta.T))\n",
        "        if y[i]*np.matmul(x[i],theta) <= 0:\n",
        "            theta = theta+(y[i]*x[i])\n",
        "            print(theta)"
      ]
    }
  ]
}