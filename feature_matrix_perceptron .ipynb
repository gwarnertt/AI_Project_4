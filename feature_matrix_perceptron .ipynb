{
  "nbformat": 4,
  "nbformat_minor": 0,
  "metadata": {
    "colab": {
      "provenance": [],
      "authorship_tag": "ABX9TyO84wjN6UUAVo8IMOnhSTeU",
      "include_colab_link": true
    },
    "kernelspec": {
      "name": "python3",
      "display_name": "Python 3"
    },
    "language_info": {
      "name": "python"
    }
  },
  "cells": [
    {
      "cell_type": "markdown",
      "metadata": {
        "id": "view-in-github",
        "colab_type": "text"
      },
      "source": [
        "<a href=\"https://colab.research.google.com/github/gwarnertt/AI_Project_4/blob/master/feature_matrix_perceptron%20.ipynb\" target=\"_parent\"><img src=\"https://colab.research.google.com/assets/colab-badge.svg\" alt=\"Open In Colab\"/></a>"
      ]
    },
    {
      "cell_type": "code",
      "execution_count": 8,
      "metadata": {
        "colab": {
          "base_uri": "https://localhost:8080/"
        },
        "id": "0y9fXBuejtVW",
        "outputId": "effa3ac2-a1db-42d8-8be9-55a0f34cf13c"
      },
      "outputs": [
        {
          "output_type": "stream",
          "name": "stdout",
          "text": [
            "(2, 10)\n",
            "[0, 1]\n",
            "[-0.48160117  0.17821963 -0.48560783 -0.24571483  0.315102   -0.34850374\n",
            "  0.00547084 -0.18729614  0.37878531  0.14651584]\n",
            "-1\n",
            "[0. 0. 0. 0. 0. 0. 0. 0. 0. 0.]\n",
            "[-0.  0. -0. -0.  0. -0.  0. -0.  0.  0.]\n",
            "[-3.63061486e-01 -3.22479182e-01 -3.10852781e-01  4.19266650e-04\n",
            " -4.26343343e-01 -6.78544931e-02 -3.68202611e-01 -1.59134843e-01\n",
            " -4.72686307e-01  3.26099378e-01]\n",
            "1\n",
            "[ 0.48160117 -0.17821963  0.48560783  0.24571483 -0.315102    0.34850374\n",
            " -0.00547084  0.18729614 -0.37878531 -0.14651584]\n",
            "[-1.74850837e-01  5.74721218e-02 -1.50952545e-01  1.03020032e-04\n",
            "  1.34341641e-01 -2.36475447e-02  2.01437916e-03 -2.98053420e-02\n",
            "  1.79046628e-01 -4.77787246e-02]\n"
          ]
        },
        {
          "output_type": "execute_result",
          "data": {
            "text/plain": [
              "(array([ 0.11853969, -0.50069882,  0.17475505,  0.24613409, -0.74144535,\n",
              "         0.28064925, -0.37367346,  0.0281613 , -0.85147161,  0.17958354]),\n",
              " 0)"
            ]
          },
          "metadata": {},
          "execution_count": 8
        }
      ],
      "source": [
        "import numpy as np\n",
        "feature_matrix= np.array([[-4.81601172e-01,  1.78219634e-01, -4.85607833e-01, -2.45714826e-01, 3.15102003e-01, -3.48503741e-01,  5.47084432e-03 ,-1.87296141e-01, 3.78785307e-01 , 1.46515841e-01],\n",
        "                [-3.63061486e-01 ,-3.22479182e-01, -3.10852781e-01 , 4.19266650e-04,-4.26343343e-01 ,-6.78544931e-02, -3.68202611e-01 ,-1.59134843e-01,-4.72686307e-01 , 3.26099378e-01]])\n",
        "print(feature_matrix.shape)\n",
        "labels= [-1,  1 ]\n",
        "T= 5\n",
        "nsamples,columns = np.shape(feature_matrix)\n",
        "\n",
        "\n",
        "def perceptron_single_step_update(\n",
        "        feature_vector,\n",
        "        label,\n",
        "        current_theta,\n",
        "        current_theta_0):\n",
        "\n",
        "    # Your code here\n",
        "    print(np.multiply(feature_vector,current_theta.T))\n",
        "    if (np.dot(feature_vector,current_theta)+current_theta_0)*label<=0:\n",
        "        current_theta = current_theta+(label*feature_vector)\n",
        "        current_theta_0= current_theta_0+label\n",
        "    return current_theta,current_theta_0\n",
        "\n",
        "\n",
        "def perceptron(feature_matrix, labels, T):\n",
        "    def get_order(feature_matrix):\n",
        "        return (list(range(nsamples)))\n",
        "\n",
        "    (theta,theta_0)= (np.zeros(columns),0)\n",
        "    n = get_order(feature_matrix.shape[0])\n",
        "    print(n)\n",
        "    for t in range(T):\n",
        "        for i in n:\n",
        "            print(feature_matrix[i])\n",
        "            print(labels[i])\n",
        "            print(theta)\n",
        "            theta, theta_0 = perceptron_single_step_update(feature_matrix[i],labels[i],theta,theta_0)\n",
        "        return (theta,theta_0)\n",
        "\n",
        "perceptron(feature_matrix, labels, T)\n",
        "\n",
        "\n"
      ]
    }
  ]
}