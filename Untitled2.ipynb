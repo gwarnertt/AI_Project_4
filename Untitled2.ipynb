{
  "nbformat": 4,
  "nbformat_minor": 0,
  "metadata": {
    "colab": {
      "provenance": [],
      "authorship_tag": "ABX9TyPkZpDy9H0LGo4UGZ8J1C45",
      "include_colab_link": true
    },
    "kernelspec": {
      "name": "python3",
      "display_name": "Python 3"
    },
    "language_info": {
      "name": "python"
    }
  },
  "cells": [
    {
      "cell_type": "markdown",
      "metadata": {
        "id": "view-in-github",
        "colab_type": "text"
      },
      "source": [
        "<a href=\"https://colab.research.google.com/github/gwarnertt/AI_Project_4/blob/master/Untitled2.ipynb\" target=\"_parent\"><img src=\"https://colab.research.google.com/assets/colab-badge.svg\" alt=\"Open In Colab\"/></a>"
      ]
    },
    {
      "cell_type": "code",
      "execution_count": 13,
      "metadata": {
        "colab": {
          "base_uri": "https://localhost:8080/"
        },
        "id": "QX1Bmrk_5m1p",
        "outputId": "23912f31-d899-4e1c-8160-706eaf911d30"
      },
      "outputs": [
        {
          "output_type": "stream",
          "name": "stdout",
          "text": [
            "[-1 -1]\n",
            "[-2  9]\n",
            "[-3  8]\n",
            "[-4  7]\n",
            "[-5  6]\n",
            "[-6  5]\n"
          ]
        }
      ],
      "source": [
        "import numpy as np\n",
        "y = np.array([1,-1,1])\n",
        "x  = np.array([[-1,-1],\n",
        "             [1,0],\n",
        "              [-1,10]])\n",
        "theta = np.array([0,0])\n",
        "T=10\n",
        "n=np.size(y)\n",
        "for t in range(T):\n",
        "    for i in range(n):\n",
        "      if (y[i]*np.dot(x[i],theta))<=0:\n",
        "          theta = theta + (y[i]*x[i])\n",
        "          print(theta)\n",
        "\n",
        "\n",
        "\n",
        "\n"
      ]
    }
  ]
}