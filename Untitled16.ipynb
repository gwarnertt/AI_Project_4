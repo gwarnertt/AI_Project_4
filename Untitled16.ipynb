{
  "nbformat": 4,
  "nbformat_minor": 0,
  "metadata": {
    "colab": {
      "name": "Untitled16.ipynb",
      "provenance": [],
      "authorship_tag": "ABX9TyPclzkGQOgKacjbs4NAmiQ6",
      "include_colab_link": true
    },
    "kernelspec": {
      "name": "python3",
      "display_name": "Python 3"
    },
    "language_info": {
      "name": "python"
    }
  },
  "cells": [
    {
      "cell_type": "markdown",
      "metadata": {
        "id": "view-in-github",
        "colab_type": "text"
      },
      "source": [
        "<a href=\"https://colab.research.google.com/github/gwarnertt/AI_Project_4/blob/master/Untitled16.ipynb\" target=\"_parent\"><img src=\"https://colab.research.google.com/assets/colab-badge.svg\" alt=\"Open In Colab\"/></a>"
      ]
    },
    {
      "cell_type": "code",
      "execution_count": 14,
      "metadata": {
        "colab": {
          "base_uri": "https://localhost:8080/"
        },
        "id": "2XA1_vN-raEv",
        "outputId": "c2c838bd-705e-4bb8-da93-be42418d8eeb"
      },
      "outputs": [
        {
          "output_type": "stream",
          "name": "stdout",
          "text": [
            "K= 1 seed =  0\n",
            "5462.297452340002\n",
            "K= 2 seed =  0\n",
            "1684.9079502962372\n",
            "K= 3 seed =  0\n",
            "1336.8265256618938\n",
            "K= 4 seed =  0\n",
            "1069.3964259219192\n",
            "K= 1 seed =  1\n",
            "1069.3964259219192\n",
            "K= 2 seed =  1\n",
            "1069.3964259219192\n",
            "K= 3 seed =  1\n",
            "1069.3964259219192\n",
            "K= 4 seed =  1\n",
            "1069.3964259219192\n",
            "K= 1 seed =  2\n",
            "1069.3964259219192\n",
            "K= 2 seed =  2\n",
            "1069.3964259219192\n",
            "K= 3 seed =  2\n",
            "1069.3964259219192\n",
            "K= 4 seed =  2\n",
            "1069.3964259219192\n",
            "K= 1 seed =  3\n",
            "1069.3964259219192\n",
            "K= 2 seed =  3\n",
            "1069.3964259219192\n",
            "K= 3 seed =  3\n",
            "1069.3964259219192\n",
            "K= 4 seed =  3\n",
            "1069.3964259219192\n",
            "K= 1 seed =  4\n",
            "1069.3964259219192\n",
            "K= 2 seed =  4\n",
            "1069.3964259219192\n",
            "K= 3 seed =  4\n",
            "1069.3964259219192\n",
            "K= 4 seed =  4\n",
            "1035.499826539466\n"
          ]
        }
      ],
      "source": [
        "import common\n",
        "import kmeans\n",
        "import numpy as np\n",
        "\n",
        "X = np.loadtxt('toy_data.txt')\n",
        "coef = []\n",
        "for seed in range(0,5):\n",
        "  for K in range(1,5):\n",
        "    y,a = common.init(X,K,seed)\n",
        "    p = kmeans.run(X,y,a)\n",
        "    coef.append(p[2])\n",
        "    print(\"K=\",K,\"seed = \", seed)  \n",
        "    print(np.min(coef))  \n"
      ]
    }
  ]
}