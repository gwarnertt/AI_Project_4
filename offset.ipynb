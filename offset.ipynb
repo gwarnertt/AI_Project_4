{
  "nbformat": 4,
  "nbformat_minor": 0,
  "metadata": {
    "colab": {
      "provenance": [],
      "authorship_tag": "ABX9TyPUitYcsvd8av18x0xBmUeF",
      "include_colab_link": true
    },
    "kernelspec": {
      "name": "python3",
      "display_name": "Python 3"
    },
    "language_info": {
      "name": "python"
    }
  },
  "cells": [
    {
      "cell_type": "markdown",
      "metadata": {
        "id": "view-in-github",
        "colab_type": "text"
      },
      "source": [
        "<a href=\"https://colab.research.google.com/github/gwarnertt/AI_Project_4/blob/master/offset.ipynb\" target=\"_parent\"><img src=\"https://colab.research.google.com/assets/colab-badge.svg\" alt=\"Open In Colab\"/></a>"
      ]
    },
    {
      "cell_type": "code",
      "execution_count": 6,
      "metadata": {
        "colab": {
          "base_uri": "https://localhost:8080/"
        },
        "id": "JFC0XQxJmbDg",
        "outputId": "0bceaf94-cae2-44a8-dced-0c49b62e1b2d"
      },
      "outputs": [
        {
          "output_type": "stream",
          "name": "stdout",
          "text": [
            "[-1 -1] 1\n"
          ]
        }
      ],
      "source": [
        "import numpy as np\n",
        "x = np.array([[-1,-1],[1,-1],[1,1],[2,2]])\n",
        "y = np.array([1,1,-1,-1])\n",
        "\n",
        "import numpy as np\n",
        "theta = np.array([0,0])\n",
        "theta_0 = 0\n",
        "T = 10\n",
        "for t in range(T):\n",
        "    n = np.size(y)\n",
        "    for i in range(n):\n",
        "        if y[i]*(np.dot(theta, x[i])+theta_0)<=0:\n",
        "            theta = theta+(y[i]*x[i])\n",
        "            theta_0 = theta_0 +y[i]\n",
        "print(theta, theta_0)"
      ]
    }
  ]
}