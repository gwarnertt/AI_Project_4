{
  "nbformat": 4,
  "nbformat_minor": 0,
  "metadata": {
    "colab": {
      "provenance": [],
      "authorship_tag": "ABX9TyNsjYQNK4TLXofw1k5ZYz6u",
      "include_colab_link": true
    },
    "kernelspec": {
      "name": "python3",
      "display_name": "Python 3"
    },
    "language_info": {
      "name": "python"
    }
  },
  "cells": [
    {
      "cell_type": "markdown",
      "metadata": {
        "id": "view-in-github",
        "colab_type": "text"
      },
      "source": [
        "<a href=\"https://colab.research.google.com/github/gwarnertt/AI_Project_4/blob/master/Untitled31.ipynb\" target=\"_parent\"><img src=\"https://colab.research.google.com/assets/colab-badge.svg\" alt=\"Open In Colab\"/></a>"
      ]
    },
    {
      "cell_type": "code",
      "execution_count": 9,
      "metadata": {
        "colab": {
          "base_uri": "https://localhost:8080/"
        },
        "id": "b7OvbSpotocg",
        "outputId": "b3f0cbae-46d9-404e-9471-7f59c98abc85"
      },
      "outputs": [
        {
          "output_type": "stream",
          "name": "stdout",
          "text": [
            "[-1.  0.]\n"
          ]
        }
      ],
      "source": [
        "import numpy as np\n",
        "x = np.array([[1,0],[-1,1.5],[-1,-1]])\n",
        "y = np.array([-1,1,1])\n",
        "n = 3\n",
        "T = 8\n",
        "t = 0\n",
        "i=0\n",
        "theta = [0,0]\n",
        "for t in range(T):\n",
        "  for i in range(n):\n",
        "    if(y[i]*np.dot(x[i],theta)) <=0:\n",
        "      theta = theta + y[i]*x[i]\n",
        "      print(theta)\n",
        "\n"
      ]
    }
  ]
}