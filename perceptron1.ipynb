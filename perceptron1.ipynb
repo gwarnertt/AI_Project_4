{
  "nbformat": 4,
  "nbformat_minor": 0,
  "metadata": {
    "colab": {
      "name": "Untitled5.ipynb",
      "provenance": [],
      "authorship_tag": "ABX9TyMOlJmAIMVze+KXpTnand9l",
      "include_colab_link": true
    },
    "kernelspec": {
      "name": "python3",
      "display_name": "Python 3"
    },
    "language_info": {
      "name": "python"
    }
  },
  "cells": [
    {
      "cell_type": "markdown",
      "metadata": {
        "id": "view-in-github",
        "colab_type": "text"
      },
      "source": [
        "<a href=\"https://colab.research.google.com/github/gwarnertt/AI_Project_4/blob/master/perceptron1.ipynb\" target=\"_parent\"><img src=\"https://colab.research.google.com/assets/colab-badge.svg\" alt=\"Open In Colab\"/></a>"
      ]
    },
    {
      "cell_type": "code",
      "execution_count": 74,
      "metadata": {
        "colab": {
          "base_uri": "https://localhost:8080/"
        },
        "id": "uZ4zQ1_5iegC",
        "outputId": "f2696e60-232e-4a6f-f7b9-0189e8cec062"
      },
      "outputs": [
        {
          "output_type": "stream",
          "name": "stdout",
          "text": [
            "[-1.  0.]\n"
          ]
        }
      ],
      "source": [
        "import numpy as np\n",
        "T=10\n",
        "n= 3\n",
        "x = np.array([[1,0],[-1,1.5],[-1,-1]])\n",
        "y = np.array([-1,1,1])\n",
        "theta = np.array([0,0])\n",
        "for t in range(T):\n",
        "    for i in range(n):\n",
        "#       print(y[i]*np.matmul(x[i],theta.T))\n",
        "        if y[i]*np.matmul(x[i],theta) <= 0:\n",
        "            theta = theta+(y[i]*x[i])\n",
        "            print(theta)"
      ]
    }
  ]
}