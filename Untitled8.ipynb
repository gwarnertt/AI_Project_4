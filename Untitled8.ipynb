{
  "nbformat": 4,
  "nbformat_minor": 0,
  "metadata": {
    "colab": {
      "name": "Untitled8.ipynb",
      "provenance": [],
      "collapsed_sections": [],
      "authorship_tag": "ABX9TyMFFP1MX4fR8FHiFvoJiZq3",
      "include_colab_link": true
    },
    "kernelspec": {
      "name": "python3",
      "display_name": "Python 3"
    },
    "language_info": {
      "name": "python"
    }
  },
  "cells": [
    {
      "cell_type": "markdown",
      "metadata": {
        "id": "view-in-github",
        "colab_type": "text"
      },
      "source": [
        "<a href=\"https://colab.research.google.com/github/gwarnertt/AI_Project_4/blob/master/Untitled8.ipynb\" target=\"_parent\"><img src=\"https://colab.research.google.com/assets/colab-badge.svg\" alt=\"Open In Colab\"/></a>"
      ]
    },
    {
      "cell_type": "code",
      "source": [
        "import numpy as np\n",
        "\n",
        "### Functions for you to fill in ###\n",
        "\n",
        "def closed_form(X, Y, lambda_factor):\n",
        "    \"\"\"\n",
        "    Computes the closed form solution of linear regression with L2 regularization\n",
        "\n",
        "    Args:\n",
        "        X - (n, d + 1) NumPy array (n datapoints each with d features plus the bias feature in the first dimension)\n",
        "        Y - (n, ) NumPy array containing the labels (a number from 0-9) for each\n",
        "            data point\n",
        "        lambda_factor - the regularization constant (scalar)\n",
        "    Returns:\n",
        "        theta - (d + 1, ) NumPy array containing the weights of linear regression. Note that theta[0]\n",
        "        represents the y-axis intercept of the model and therefore X[0] = 1\n",
        "    \"\"\"\n",
        "    # YOUR CODE HERE\n",
        "    (n,m) = X.shape\n",
        "    theta = np.dot(np.linalg.inv((X.T@X)+lambda_factor*np.identity(m)),(X.T@Y))\n",
        "    return theta\n",
        "    raise NotImplementedError\n",
        "\n",
        "### Functions which are already complete, for you to use ###\n",
        "\n",
        "def compute_test_error_linear(test_x, Y, theta):\n",
        "    test_y_predict = np.round(np.dot(test_x, theta))\n",
        "    test_y_predict[test_y_predict < 0] = 0\n",
        "    test_y_predict[test_y_predict > 9] = 9\n",
        "    return 1 - np.mean(test_y_predict == Y)"
      ],
      "metadata": {
        "id": "0kFNeXkdt86-"
      },
      "execution_count": 5,
      "outputs": []
    }
  ]
}