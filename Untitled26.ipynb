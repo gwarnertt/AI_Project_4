{
  "nbformat": 4,
  "nbformat_minor": 0,
  "metadata": {
    "colab": {
      "name": "Untitled26.ipynb",
      "provenance": [],
      "authorship_tag": "ABX9TyNJhMirRnJdxbzcLlmx0GSo",
      "include_colab_link": true
    },
    "kernelspec": {
      "name": "python3",
      "display_name": "Python 3"
    },
    "language_info": {
      "name": "python"
    }
  },
  "cells": [
    {
      "cell_type": "markdown",
      "metadata": {
        "id": "view-in-github",
        "colab_type": "text"
      },
      "source": [
        "<a href=\"https://colab.research.google.com/github/gwarnertt/AI_Project_4/blob/master/Untitled26.ipynb\" target=\"_parent\"><img src=\"https://colab.research.google.com/assets/colab-badge.svg\" alt=\"Open In Colab\"/></a>"
      ]
    },
    {
      "cell_type": "code",
      "execution_count": 17,
      "metadata": {
        "colab": {
          "base_uri": "https://localhost:8080/"
        },
        "id": "6YziePDRnI1P",
        "outputId": "864738ed-653f-4d5b-fafd-5c3c8610fe4f"
      },
      "outputs": [
        {
          "output_type": "execute_result",
          "data": {
            "text/plain": [
              "(matrix([[0],\n",
              "         [1]]), matrix([[0, 1]]))"
            ]
          },
          "metadata": {},
          "execution_count": 17
        }
      ],
      "source": [
        "import numpy as np\n",
        "\n",
        "s = np.array([0,0])\n",
        "wss = np.matrix([[-1,0],[0,1]])\n",
        "wsx = np.matrix([[1,0],[0,1]])\n",
        "aa = np.matrix([[1,0],[1,0]])\n",
        "x1 = np.array([1,0])\n",
        "x2 = np.array([0,1])\n",
        "abb = np.matrix([[1,0],[0,1],[0,1]])\n",
        "baa = np.matrix([[0,1],[1,0],[1,0]])\n",
        "a = np.dot(wsx,x1.T)\n",
        "b = np.dot(wss,a.T)\n",
        "c = np.dot(wsx,x2.T )\n",
        "d = np.dot(wss,c.T)\n",
        "d,c"
      ]
    }
  ]
}