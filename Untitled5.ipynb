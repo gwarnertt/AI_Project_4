{
  "nbformat": 4,
  "nbformat_minor": 0,
  "metadata": {
    "colab": {
      "name": "Untitled5.ipynb",
      "provenance": [],
      "authorship_tag": "ABX9TyNiy3lquZLF9bMDr8lx5vRz",
      "include_colab_link": true
    },
    "kernelspec": {
      "name": "python3",
      "display_name": "Python 3"
    },
    "language_info": {
      "name": "python"
    }
  },
  "cells": [
    {
      "cell_type": "markdown",
      "metadata": {
        "id": "view-in-github",
        "colab_type": "text"
      },
      "source": [
        "<a href=\"https://colab.research.google.com/github/gwarnertt/AI_Project_4/blob/master/Untitled5.ipynb\" target=\"_parent\"><img src=\"https://colab.research.google.com/assets/colab-badge.svg\" alt=\"Open In Colab\"/></a>"
      ]
    },
    {
      "cell_type": "code",
      "execution_count": 8,
      "metadata": {
        "colab": {
          "base_uri": "https://localhost:8080/"
        },
        "id": "uZ4zQ1_5iegC",
        "outputId": "20f326c2-eeed-42b5-e276-be6b739a8700"
      },
      "outputs": [
        {
          "output_type": "stream",
          "name": "stdout",
          "text": [
            "[-4  2]\n",
            "[-3  3]\n",
            "[-5  1]\n",
            "[-4  2]\n",
            "[-3  3]\n",
            "[-5  1]\n",
            "[-4  2]\n",
            "[-3  3]\n",
            "[-5  1]\n",
            "[-4  2]\n",
            "[-3  3]\n",
            "[-5  1]\n",
            "[-4  2]\n",
            "[-3  3]\n",
            "[-5  1]\n",
            "[-4  2]\n"
          ]
        }
      ],
      "source": [
        "import numpy as np\n",
        "T=10\n",
        "n= 5\n",
        "x = np.array([[-4,2],[-2,1],[-1,-1],[2,2],[1,-2]])\n",
        "y = np.array([1,1,-1,-1,-1])\n",
        "theta = np.array([0,0])\n",
        "for t in range(T):\n",
        "    for i in range(n):\n",
        "#       print(y[i]*np.matmul(x[i],theta.T))\n",
        "        if y[i]*np.matmul(x[i],theta) <= 0:\n",
        "            theta = theta+(y[i]*x[i])\n",
        "            print(theta)"
      ]
    }
  ]
}